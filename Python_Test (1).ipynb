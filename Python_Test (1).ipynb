{
  "nbformat": 4,
  "nbformat_minor": 0,
  "metadata": {
    "colab": {
      "provenance": []
    },
    "kernelspec": {
      "name": "python3",
      "display_name": "Python 3"
    },
    "language_info": {
      "name": "python"
    }
  },
  "cells": [
    {
      "cell_type": "code",
      "execution_count": null,
      "metadata": {
        "colab": {
          "base_uri": "https://localhost:8080/"
        },
        "id": "fHZ7-Ej2E_MR",
        "outputId": "b65089ba-7954-46a5-be66-d34e59ada809"
      },
      "outputs": [
        {
          "output_type": "stream",
          "name": "stdout",
          "text": [
            "Tesla Model X 75 kwh 2019\n"
          ]
        }
      ],
      "source": [
        "class Car():\n",
        "  def __init__(self, brand , model , year):\n",
        "    self.brand = brand\n",
        "    self.model = model\n",
        "    self.year = year\n",
        "class ElectricCar(Car):\n",
        "  def __init__(self , brand , model , year ,  battery_size):\n",
        "    super().__init__(brand ,  model , year)\n",
        "    self.battery_size = battery_size\n",
        "car = ElectricCar( 'Tesla' , 'Model X' ,  2019 , \"75 kwh\" )\n",
        "print(car.brand , car.model  , car.battery_size , car.year)"
      ]
    },
    {
      "cell_type": "code",
      "source": [
        "class Book():\n",
        "  def __init__(self , title , author):\n",
        "    self.__title = title\n",
        "    self.__author = author\n",
        "  def get_title(self):\n",
        "    return self.__title\n",
        "  def get_author(self):\n",
        "    return self.__author\n",
        "book = Book(\"Ramayan\" , 'Valmiki')\n",
        "print(book.get_title() , book.get_author())"
      ],
      "metadata": {
        "colab": {
          "base_uri": "https://localhost:8080/"
        },
        "id": "ty3XFd8xH6IB",
        "outputId": "ab74b42d-84c6-4646-9de8-cce593164fe1"
      },
      "execution_count": null,
      "outputs": [
        {
          "output_type": "stream",
          "name": "stdout",
          "text": [
            "Ramayan Valmiki\n"
          ]
        }
      ]
    },
    {
      "cell_type": "code",
      "source": [
        "class Bird:\n",
        "  def fly(self):\n",
        "    return \"Birds can fly\"\n",
        "class Ostrich(Bird):\n",
        "  def fly(self):\n",
        "    return \"Ostrich cannot fly\"\n",
        "a = Bird()\n",
        "b = Ostrich()\n",
        "print(a.fly())\n",
        "print(b.fly())\n",
        "\n"
      ],
      "metadata": {
        "colab": {
          "base_uri": "https://localhost:8080/"
        },
        "id": "TMmka4xGJYMm",
        "outputId": "3021d1f4-9de9-4edc-bf57-8a114b045d8a"
      },
      "execution_count": null,
      "outputs": [
        {
          "output_type": "stream",
          "name": "stdout",
          "text": [
            "Birds can fly\n",
            "Ostrich cannot fly\n"
          ]
        }
      ]
    },
    {
      "cell_type": "code",
      "source": [
        "class Animal():\n",
        "  class Dog:\n",
        "    def make_sound():\n",
        "      return 'Bark'\n",
        "  class Cat:\n",
        "    def make_sound():\n",
        "      return 'Meow'\n",
        "a = Animal.Dog\n",
        "b = Animal.Cat\n",
        "print(a.make_sound())\n",
        "print(b.make_sound())"
      ],
      "metadata": {
        "colab": {
          "base_uri": "https://localhost:8080/"
        },
        "id": "AmhhZgDDMB0C",
        "outputId": "d6ac5012-6b73-43d9-f456-fb2f64b009cf"
      },
      "execution_count": null,
      "outputs": [
        {
          "output_type": "stream",
          "name": "stdout",
          "text": [
            "Bark\n",
            "Meow\n"
          ]
        }
      ]
    },
    {
      "cell_type": "code",
      "source": [
        "l = ['a' , 'b' , 'c' , 'd' , 'e']\n",
        "itrator = iter(l)\n",
        "for i in l:\n",
        "  print(i)"
      ],
      "metadata": {
        "colab": {
          "base_uri": "https://localhost:8080/"
        },
        "id": "3xoR2yl3NBSw",
        "outputId": "a15addee-5f00-41ba-f3a5-5fc4f2de982d"
      },
      "execution_count": null,
      "outputs": [
        {
          "output_type": "stream",
          "name": "stdout",
          "text": [
            "a\n",
            "b\n",
            "c\n",
            "d\n",
            "e\n"
          ]
        }
      ]
    },
    {
      "cell_type": "code",
      "source": [
        "l1 = [10, 20, 30, 40]\n",
        "iterator1 = iter(l1)\n",
        "\n",
        "while True:\n",
        "  try:\n",
        "    print(next(iterator1))\n",
        "  except StopIteration:\n",
        "    break\n"
      ],
      "metadata": {
        "colab": {
          "base_uri": "https://localhost:8080/"
        },
        "id": "uc5w8BibNURc",
        "outputId": "141d79ad-a30e-4cba-db87-2b99a07b62f3"
      },
      "execution_count": null,
      "outputs": [
        {
          "output_type": "stream",
          "name": "stdout",
          "text": [
            "10\n",
            "20\n",
            "30\n",
            "40\n"
          ]
        }
      ]
    },
    {
      "cell_type": "code",
      "source": [
        "class BankAccount:\n",
        "  def __init__(self ):\n",
        "    self.__balance = 0\n",
        "  def deposit(self,amount):\n",
        "    self.__balance += amount\n",
        "  def withdraw(self , amount):\n",
        "    if self.__balance >= amount:\n",
        "      self.__balance -= amount\n",
        "    else:\n",
        "      print(\"Not Enough Balance\")\n",
        "  def the_balance(self):\n",
        "    return self.__balance\n",
        "\n",
        "n = BankAccount()\n",
        "n.deposit(1000)\n",
        "n.withdraw(500)\n",
        "print(n.the_balance())"
      ],
      "metadata": {
        "colab": {
          "base_uri": "https://localhost:8080/"
        },
        "id": "iTveVaWRO94O",
        "outputId": "2ce86989-6727-4517-ee60-1335fe5e8675"
      },
      "execution_count": null,
      "outputs": [
        {
          "output_type": "stream",
          "name": "stdout",
          "text": [
            "500\n"
          ]
        }
      ]
    },
    {
      "cell_type": "code",
      "source": [
        "\n",
        "class Calculator:\n",
        "\n",
        "  def __init_(self , num1 , num2):\n",
        "    self.num1 = num1\n",
        "    self.num2 = num2\n",
        "\n",
        "  def multiply(self):\n",
        "    num1 = int(input('Enter a Number '))\n",
        "    num2 = int(input('Enter a Number '))\n",
        "\n",
        "    if num1 == 0 :\n",
        "      return num2\n",
        "    if num2 == 0:\n",
        "        return num1\n",
        "    else:\n",
        "      return num1*num2\n",
        "b = Calculator()\n",
        "print(b.multiply())"
      ],
      "metadata": {
        "colab": {
          "base_uri": "https://localhost:8080/"
        },
        "id": "9Ab29g0-VDb1",
        "outputId": "f6f9f1aa-66bc-42ef-c620-1171f10c58f8"
      },
      "execution_count": null,
      "outputs": [
        {
          "output_type": "stream",
          "name": "stdout",
          "text": [
            "Enter a Number 10\n",
            "Enter a Number 51\n",
            "510\n"
          ]
        }
      ]
    },
    {
      "cell_type": "code",
      "source": [
        "class Employee:\n",
        "  def __init__(self , name , salary):\n",
        "    self.name = name\n",
        "    self.salary = salary\n",
        "  def display(self):\n",
        "    print(self.name , self.salary)\n",
        "emp = Employee(\"Dhruv\" , 10000)\n",
        "emp.display()"
      ],
      "metadata": {
        "colab": {
          "base_uri": "https://localhost:8080/"
        },
        "id": "zfcAnZNoXChO",
        "outputId": "34595ebd-5e3f-4b9a-bc5f-ce306e618e3c"
      },
      "execution_count": null,
      "outputs": [
        {
          "output_type": "stream",
          "name": "stdout",
          "text": [
            "Dhruv 10000\n"
          ]
        }
      ]
    },
    {
      "cell_type": "code",
      "source": [
        "class Father():\n",
        "  def father_traits(self,f_name):\n",
        "    self.f_name = f_name\n",
        "    print(\"I have a house\")\n",
        "class Mother():\n",
        "  def mother_traits(self,m_name):\n",
        "    self.m_name = m_name\n",
        "    print('I have dishes')\n",
        "class Child(Father , Mother):\n",
        "  def __init__(self,c_name,m_name,f_name):\n",
        "    self.c_name = c_name\n",
        "    self.m_name = m_name\n",
        "    self.f_name = f_name\n",
        "  def child_traits(self):\n",
        "    print(f\"{self.c_name},{self.m_name},{self.f_name}\")\n",
        "a = Child(\"dhruv\",\"prakash\",\"joshi\")\n",
        "#   pass\n",
        "# a = Child()\n",
        "# a.father_traits()\n",
        "# a.mother_traits()\n",
        "\n"
      ],
      "metadata": {
        "id": "5qCxpuxXaAlr"
      },
      "execution_count": null,
      "outputs": []
    },
    {
      "cell_type": "code",
      "source": [
        "a.child_traits()"
      ],
      "metadata": {
        "colab": {
          "base_uri": "https://localhost:8080/"
        },
        "id": "rru-aUOZb1U4",
        "outputId": "5ce1c14a-ecfe-480f-f349-7201c5174595"
      },
      "execution_count": null,
      "outputs": [
        {
          "output_type": "stream",
          "name": "stdout",
          "text": [
            "dhruv,prakash,joshi\n"
          ]
        }
      ]
    },
    {
      "cell_type": "code",
      "source": [],
      "metadata": {
        "id": "rsve5bjEd0is"
      },
      "execution_count": null,
      "outputs": []
    }
  ]
}